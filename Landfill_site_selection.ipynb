{
 "cells": [
  {
   "cell_type": "code",
   "execution_count": 1,
   "id": "41a4f4d0",
   "metadata": {},
   "outputs": [],
   "source": [
    "from gdal import ogr\n",
    "import ogr2ogr\n",
    "import os\n",
    "import gdal"
   ]
  },
  {
   "cell_type": "markdown",
   "id": "7d517161",
   "metadata": {},
   "source": [
    "# Read the data"
   ]
  },
  {
   "cell_type": "code",
   "execution_count": 2,
   "id": "4c4dca01",
   "metadata": {},
   "outputs": [],
   "source": [
    "natura_regions = ogr.Open('Input_data_Milos/Natura_Milos/Natura_Milos.shp', 1)\n",
    "natura_regions_layer = natura_regions.GetLayer()"
   ]
  },
  {
   "cell_type": "code",
   "execution_count": 3,
   "id": "4f2d1e42",
   "metadata": {},
   "outputs": [],
   "source": [
    "# Natura regions of the island include include some regions "
   ]
  },
  {
   "cell_type": "code",
   "execution_count": 4,
   "id": "6bdc98f6",
   "metadata": {},
   "outputs": [],
   "source": [
    "towns = ogr.Open('Input_data_Milos/Oikismoi_Milos/Oikismoi_Milos.shp', 1)\n",
    "towns_layer = towns.GetLayer()"
   ]
  },
  {
   "cell_type": "code",
   "execution_count": 5,
   "id": "72696a87",
   "metadata": {},
   "outputs": [],
   "source": [
    "coastline = ogr.Open('Input_data_Milos/coastline_Milos/coastline_Milos.shp', 1)\n",
    "coastline_layer = coastline.GetLayer()"
   ]
  },
  {
   "cell_type": "code",
   "execution_count": 6,
   "id": "087224bd",
   "metadata": {},
   "outputs": [],
   "source": [
    "roads = ogr.Open('Input_data_Milos/Roads/merge_roads_Milos.shp', 1)\n",
    "roads_layer = coastline.GetLayer()"
   ]
  },
  {
   "cell_type": "code",
   "execution_count": 7,
   "id": "b0efb0f4",
   "metadata": {},
   "outputs": [],
   "source": [
    "import geopandas as gpd"
   ]
  },
  {
   "cell_type": "code",
   "execution_count": 8,
   "id": "fe4016b7",
   "metadata": {},
   "outputs": [],
   "source": [
    "coast = gpd.read_file('Input_data_Milos/coastline_Milos/coastline_Milos.shp')\n",
    "roads = gpd.read_file('Input_data_Milos/Roads/merge_roads_Milos.shp')"
   ]
  },
  {
   "cell_type": "markdown",
   "id": "72927060",
   "metadata": {},
   "source": [
    "# Function for buffer"
   ]
  },
  {
   "cell_type": "code",
   "execution_count": 9,
   "id": "e5137e9a",
   "metadata": {},
   "outputs": [],
   "source": [
    "def createBuffer(inputfn, outputBufferfn, bufferDist):\n",
    "    inputds = ogr.Open(inputfn)\n",
    "    inputlyr = inputds.GetLayer()\n",
    "        \n",
    "    shpdriver = ogr.GetDriverByName('ESRI Shapefile')\n",
    "#     if os.path.exists(outputBufferfn):\n",
    "#         shpdriver.DeleteDataSource(outputBufferfn)\n",
    "    outputBufferds = shpdriver.CreateDataSource(outputBufferfn)\n",
    "    bufferlyr = outputBufferds.CreateLayer(outputBufferfn, inputlyr.GetSpatialRef(),\n",
    "                                           geom_type=ogr.wkbPolygon)\n",
    "    featureDefn = bufferlyr.GetLayerDefn()\n",
    "\n",
    "    for feature in inputlyr:\n",
    "        ingeom = feature.GetGeometryRef()\n",
    "        geomBuffer = ingeom.Buffer(bufferDist)\n",
    "\n",
    "        outFeature = ogr.Feature(featureDefn)\n",
    "        outFeature.SetGeometry(geomBuffer)\n",
    "        bufferlyr.CreateFeature(outFeature)\n",
    "        feature = None\n",
    "        \n",
    "    outputBufferds = bufferlyr = None\n",
    "        \n",
    "    feature = None"
   ]
  },
  {
   "cell_type": "markdown",
   "id": "9d3e8770",
   "metadata": {},
   "source": [
    "# Buffer Calculation"
   ]
  },
  {
   "cell_type": "code",
   "execution_count": 10,
   "id": "43e629e5",
   "metadata": {},
   "outputs": [],
   "source": [
    "# Towns buffer\n",
    "createBuffer('Input_data_Milos/Oikismoi_Milos/Oikismoi_Milos.shp', 'Produced/towns_buffer.shp', 300)\n",
    "# Coastline buffer\n",
    "createBuffer('Input_data_Milos/coastline_Milos/coastline_Milos.shp', 'Produced/coastline_buffer.shp', 300)\n",
    "# Natura 2000 buffer\n",
    "createBuffer('Input_data_Milos/Natura_Milos/Natura_Milos.shp', 'Produced/natura_buffer.shp', 800)"
   ]
  },
  {
   "cell_type": "markdown",
   "id": "88f59ca4",
   "metadata": {},
   "source": [
    "# Land uses"
   ]
  },
  {
   "cell_type": "code",
   "execution_count": 11,
   "id": "b833988a",
   "metadata": {},
   "outputs": [
    {
     "data": {
      "text/plain": [
       "0"
      ]
     },
     "execution_count": 11,
     "metadata": {},
     "output_type": "execute_result"
    }
   ],
   "source": [
    "os.system('''ogr2ogr -sql \"SELECT * FROM CLC_Milos \\\n",
    "        WHERE CODE_18!='321' AND CODE_18!='323' AND CODE_18!='333'\" \\\n",
    "        Produced/Selected_land_uses.shp  Input_data_Milos/Corine_Land_Cover_Milos/CLC_Milos.shp''')"
   ]
  },
  {
   "cell_type": "markdown",
   "id": "2029f4e5",
   "metadata": {},
   "source": [
    "0 means that the script run successfully whereas 1 the other way around."
   ]
  },
  {
   "cell_type": "markdown",
   "id": "8c6f587e",
   "metadata": {},
   "source": [
    "# Roads selection (secondary and tertiary)"
   ]
  },
  {
   "cell_type": "code",
   "execution_count": 12,
   "id": "e42f59c4",
   "metadata": {},
   "outputs": [],
   "source": [
    "# os.system('''ogr2ogr -sql \"SELECT * FROM merge_roads_Milos WHERE highway='secondary' OR highway='tertiary'\" \\\n",
    "# Selected_roads.shp  merge_roads_Milos.shp''')\n",
    "\n",
    "\n",
    "os.system('''ogr2ogr -sql \"SELECT * FROM merge_roads_Milos \\\n",
    "        WHERE highway='secondary' OR highway='tertiary'\" \\\n",
    "        Produced/Selected_roads.shp  Input_data_Milos/Roads/merge_roads_Milos.shp''')\n",
    "\n",
    "# Buffer for selected_roads (distance 2km)\n",
    "createBuffer('Produced/Selected_roads.shp', 'Produced/Selected_roads_buffer.shp', 400)\n"
   ]
  },
  {
   "cell_type": "markdown",
   "id": "21d5a298",
   "metadata": {},
   "source": [
    "# Merge excluded areas"
   ]
  },
  {
   "cell_type": "code",
   "execution_count": 13,
   "id": "3a04783c",
   "metadata": {},
   "outputs": [],
   "source": [
    "def merge():\n",
    "    ogr2ogr.main([\"\",\"-f\", \"ESRI Shapefile\", \"Produced/merged.shp\", \"Produced/coastline_buffer.shp\"])\n",
    "    ogr2ogr.main([\"\",\"-f\", \"ESRI Shapefile\", \"-append\", \"-update\", 'Produced/merged.shp', \"Produced/towns_buffer.shp\"])\n",
    "    ogr2ogr.main([\"\",\"-f\", \"ESRI Shapefile\", \"-append\", \"-update\", 'Produced/merged.shp', \"Produced/natura_buffer.shp\"])\n",
    "    \n",
    "#     ogr2ogr -f \"ESRI Shapefile\" merged.shp a.shp+\n",
    "merge()"
   ]
  },
  {
   "cell_type": "markdown",
   "id": "aa12ae74",
   "metadata": {},
   "source": [
    "# Dissolve merge output to one polygon "
   ]
  },
  {
   "cell_type": "code",
   "execution_count": 14,
   "id": "f81b8787",
   "metadata": {},
   "outputs": [
    {
     "data": {
      "text/plain": [
       "0"
      ]
     },
     "execution_count": 14,
     "metadata": {},
     "output_type": "execute_result"
    }
   ],
   "source": [
    "import os\n",
    "\n",
    "os.system('''ogr2ogr Produced/exclude_dissolved.shp \\\n",
    "Produced/merged.shp -dialect sqlite -sql \"SELECT ST_Union(geometry) AS geometry FROM merged ''')"
   ]
  },
  {
   "cell_type": "markdown",
   "id": "d4438c87",
   "metadata": {},
   "source": [
    "# Dissolve land uses"
   ]
  },
  {
   "cell_type": "code",
   "execution_count": 15,
   "id": "9cf9c9ae",
   "metadata": {},
   "outputs": [
    {
     "data": {
      "text/plain": [
       "0"
      ]
     },
     "execution_count": 15,
     "metadata": {},
     "output_type": "execute_result"
    }
   ],
   "source": [
    "os.system('''ogr2ogr Produced/Selected_land_uses_dis.shp \\\n",
    "Produced/Selected_land_uses.shp -dialect sqlite -sql \"SELECT ST_Union(geometry) AS geometry FROM Selected_land_uses''')"
   ]
  },
  {
   "cell_type": "markdown",
   "id": "536fa48c",
   "metadata": {},
   "source": [
    "# Erase gdal"
   ]
  },
  {
   "cell_type": "code",
   "execution_count": 16,
   "id": "b0175c85",
   "metadata": {},
   "outputs": [],
   "source": [
    "# Erase \n",
    "ogr.UseExceptions()\n",
    "\n",
    "land_uses_dis = ogr.Open('Produced/Selected_land_uses_dis.shp',1)\n",
    "excluded_areas_dis = ogr.Open('Produced/exclude_dissolved.shp',1)\n",
    "land_uses_dis_layer = land_uses_dis.GetLayer()\n",
    "excluded_areas_dis_layer = excluded_areas_dis.GetLayer()\n",
    "\n",
    "driver = ogr.GetDriverByName('ESRI Shapefile')\n",
    "erase_outDataSource = driver.CreateDataSource('Produced/erase_output.shp')\n",
    "srs = land_uses_dis_layer.GetSpatialRef()\n",
    "\n",
    "# layer name contains some Unicode characters - an excption occured\n",
    "# how to fix it - https://gis.stackexchange.com/questions/53920/ogr-createlayer-returns-typeerror+\n",
    "\n",
    "if os.path.exists('Produced/erase_output.shp'):\n",
    "    driver.DeleteDataSource(erase_outDataSource)\n",
    "erase_Layer = erase_outDataSource.CreateLayer(str(erase_outDataSource), srs, geom_type = ogr.wkbPolygon)\n",
    "\n",
    "erase_ds = land_uses_dis_layer.Erase(excluded_areas_dis_layer, erase_Layer)\n",
    "erase_outDataSource = erase_ds = None\n",
    "\n",
    "#     bufferlyr = outputBufferds.CreateLayer(outputBufferfn, inputlyr.GetSpatialRef(),\n",
    "#                                            geom_type=ogr.wkbPolygon)"
   ]
  },
  {
   "cell_type": "markdown",
   "id": "00673b3f",
   "metadata": {},
   "source": [
    "# Dissolve Selected_roads_buffer"
   ]
  },
  {
   "cell_type": "code",
   "execution_count": 17,
   "id": "907c9530",
   "metadata": {},
   "outputs": [
    {
     "data": {
      "text/plain": [
       "0"
      ]
     },
     "execution_count": 17,
     "metadata": {},
     "output_type": "execute_result"
    }
   ],
   "source": [
    "os.system('''ogr2ogr Produced/Selected_roads_buffer_dis.shp \\\n",
    "Produced/Selected_roads_buffer.shp -dialect sqlite -sql \"SELECT ST_Union(geometry) AS geometry FROM Selected_roads_buffer''')"
   ]
  },
  {
   "cell_type": "markdown",
   "id": "94833e0d",
   "metadata": {},
   "source": [
    "# Clip"
   ]
  },
  {
   "cell_type": "code",
   "execution_count": 18,
   "id": "29dd493c",
   "metadata": {},
   "outputs": [],
   "source": [
    "# Input layer\n",
    "inDataSource = driver.Open('Produced/Selected_roads_buffer_dis.shp', 0)\n",
    "inLayer = inDataSource.GetLayer()\n",
    "\n",
    "# clip layer\n",
    "inClipSource = driver.Open('Produced/erase_output.shp', 0)\n",
    "inClipLayer = inClipSource.GetLayer()\n",
    "\n",
    "# output layer\n",
    "srs = inClipLayer.GetSpatialRef()\n",
    "outDataSource = driver.CreateDataSource('Produced/clip_layer.shp')\n",
    "outLayer = outDataSource.CreateLayer('poly', srs, geom_type=ogr.wkbMultiPolygon)\n",
    "\n",
    "ogr.Layer.Clip(inLayer, inClipLayer, outLayer)\n",
    "\n",
    "outLayer = outDataSource = None"
   ]
  },
  {
   "cell_type": "markdown",
   "id": "e4d3f3ff",
   "metadata": {},
   "source": [
    "# Converting multipart to singlepart"
   ]
  },
  {
   "cell_type": "code",
   "execution_count": 19,
   "id": "f56b76d1",
   "metadata": {},
   "outputs": [],
   "source": [
    "def multipoly2poly(in_lyr, out_lyr):\n",
    "    for in_feat in in_lyr:\n",
    "        geom = in_feat.GetGeometryRef()\n",
    "        if geom.GetGeometryName() == 'MULTIPOLYGON':\n",
    "            for geom_part in geom:\n",
    "                addPolygon(geom_part.ExportToWkb(), out_lyr)\n",
    "        else:\n",
    "            addPolygon(geom.ExportToWkb(), out_lyr)\n",
    "\n",
    "def addPolygon(simplePolygon, out_lyr):\n",
    "    featureDefn = out_lyr.GetLayerDefn()\n",
    "    polygon = ogr.CreateGeometryFromWkb(simplePolygon)\n",
    "    out_feat = ogr.Feature(featureDefn)\n",
    "    out_feat.SetGeometry(polygon)\n",
    "    out_lyr.CreateFeature(out_feat)\n",
    "\n",
    "clip_file = driver.Open('Produced/clip_layer.shp', 0)\n",
    "clip_file_layer = clip_file.GetLayer()\n",
    "\n",
    "outputshp = 'Produced/multiparts.shp'\n",
    "if os.path.exists(outputshp):\n",
    "    driver.DeleteDataSource(outputshp)\n",
    "out_ds = driver.CreateDataSource(outputshp)\n",
    "\n",
    "srs_2 = clip_file_layer.GetSpatialRef()\n",
    "out_lyr = out_ds.CreateLayer('Produced/multiparts', srs_2, geom_type=ogr.wkbPolygon)\n",
    "multipoly2poly(clip_file_layer, out_lyr)\n",
    "\n",
    "out_ds = out_lyr = None"
   ]
  },
  {
   "cell_type": "markdown",
   "id": "774b014a",
   "metadata": {},
   "source": [
    "# Add a column to estimate the area"
   ]
  },
  {
   "cell_type": "code",
   "execution_count": 26,
   "id": "87644234",
   "metadata": {},
   "outputs": [],
   "source": [
    "# read multiparts data\n",
    "\n",
    "multipart_file = driver.Open('Produced/multiparts.shp', 1)\n",
    "multipart_layer = multipart_file.GetLayer()\n",
    "\n",
    "area_field = ogr.FieldDefn('Area', ogr.OFTReal)\n",
    "area_field.SetWidth(12)\n",
    "area_field.SetPrecision(3)\n",
    "multipart_layer.CreateField(area_field)\n",
    "\n",
    "for feature in multipart_layer:\n",
    "    geom = feature.GetGeometryRef()\n",
    "    area_val = geom.GetArea() \n",
    "    feature.SetField('Area', area_val)\n",
    "    multipart_layer.SetFeature(feature)\n",
    "    \n",
    "multipart_file = multipart_layer = None"
   ]
  },
  {
   "cell_type": "markdown",
   "id": "55d73401",
   "metadata": {},
   "source": [
    "# Select the regions whose area is larger than 1,000,000 m2"
   ]
  },
  {
   "cell_type": "code",
   "execution_count": 27,
   "id": "e2944903",
   "metadata": {},
   "outputs": [
    {
     "data": {
      "text/plain": [
       "0"
      ]
     },
     "execution_count": 27,
     "metadata": {},
     "output_type": "execute_result"
    }
   ],
   "source": [
    "os.system('''ogr2ogr -sql \"SELECT * FROM multiparts \\\n",
    "        WHERE Area >= 1000000\" \\\n",
    "        Produced/multiparts_selected.shp  Produced/multiparts.shp''')"
   ]
  },
  {
   "cell_type": "markdown",
   "id": "69503ac7",
   "metadata": {},
   "source": [
    "There are only two polygons which satisfy these criteria"
   ]
  },
  {
   "cell_type": "markdown",
   "id": "512bcdd0",
   "metadata": {},
   "source": [
    "# The end"
   ]
  }
 ],
 "metadata": {
  "kernelspec": {
   "display_name": "Python 3 (ipykernel)",
   "language": "python",
   "name": "python3"
  },
  "language_info": {
   "codemirror_mode": {
    "name": "ipython",
    "version": 3
   },
   "file_extension": ".py",
   "mimetype": "text/x-python",
   "name": "python",
   "nbconvert_exporter": "python",
   "pygments_lexer": "ipython3",
   "version": "3.8.10"
  }
 },
 "nbformat": 4,
 "nbformat_minor": 5
}
